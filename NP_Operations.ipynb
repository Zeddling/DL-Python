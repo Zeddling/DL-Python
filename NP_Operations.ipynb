{
  "nbformat": 4,
  "nbformat_minor": 0,
  "metadata": {
    "colab": {
      "name": "NP_Operations.ipynb",
      "provenance": [],
      "authorship_tag": "ABX9TyOAjG4tc0gVWbr3w77kMhoe",
      "include_colab_link": true
    },
    "kernelspec": {
      "name": "python3",
      "display_name": "Python 3"
    }
  },
  "cells": [
    {
      "cell_type": "markdown",
      "metadata": {
        "id": "view-in-github",
        "colab_type": "text"
      },
      "source": [
        "<a href=\"https://colab.research.google.com/github/Zeddling/DL-Python/blob/master/NP_Operations.ipynb\" target=\"_parent\"><img src=\"https://colab.research.google.com/assets/colab-badge.svg\" alt=\"Open In Colab\"/></a>"
      ]
    },
    {
      "cell_type": "code",
      "metadata": {
        "id": "rW6Mxt9KhbyM",
        "colab_type": "code",
        "colab": {}
      },
      "source": [
        "import numpy as np"
      ],
      "execution_count": 1,
      "outputs": []
    },
    {
      "cell_type": "code",
      "metadata": {
        "id": "ZOr5QY-BAiKY",
        "colab_type": "code",
        "colab": {}
      },
      "source": [
        "def naive_add_matrix_and_vector(matrix, vector):\n",
        "  assert len(matrix.shape) == 2\n",
        "  assert len(vector.shape) == 1\n",
        "  assert matrix.shape[1] == vector.shape[0]\n",
        "\n",
        "  x = matrix.copy()\n",
        "  for i in range(matrix.shape[0]):\n",
        "    for j in range(matrix.shape[1]):\n",
        "      x[i,j] += vector[j]\n",
        "  return x"
      ],
      "execution_count": 7,
      "outputs": []
    },
    {
      "cell_type": "code",
      "metadata": {
        "id": "wEb8_pgRBel4",
        "colab_type": "code",
        "colab": {}
      },
      "source": [
        "vector = np.random.rand(10)\n",
        "matrix = np.random.rand(32, 10)"
      ],
      "execution_count": 5,
      "outputs": []
    },
    {
      "cell_type": "code",
      "metadata": {
        "id": "-_x9R5otCcFT",
        "colab_type": "code",
        "colab": {}
      },
      "source": [
        "naive_add_matrix_and_vector(matrix, vector)"
      ],
      "execution_count": null,
      "outputs": []
    },
    {
      "cell_type": "markdown",
      "metadata": {
        "id": "BcuduSwJET1_",
        "colab_type": "text"
      },
      "source": [
        "Dot Product\n"
      ]
    },
    {
      "cell_type": "code",
      "metadata": {
        "id": "1-Auz-mWD92f",
        "colab_type": "code",
        "colab": {}
      },
      "source": [
        "'''\n",
        "  params: two vectors/ 1D tensors\n",
        "  returns: scalar/ 0D tensor\n",
        "'''\n",
        "def naive_vector_dot(x, y):\n",
        "  # Affirm that both inputs are vectors and\n",
        "  # of the same length  \n",
        "  assert len(x.shape) == 1\n",
        "  assert len(y.shape) == 1\n",
        "  assert x.shape[0] == y.shape[0]\n",
        "\n",
        "  z = 0\n",
        "  for i in range(x.shape[0]):\n",
        "    z += x[i] * y[i]\n",
        "  return z\n",
        "\n",
        "'''\n",
        "  params: a mxn matrix and a vector(2D tensor and 1D tensor)\n",
        "  returns: vector/1D tensor\n",
        "'''\n",
        "def naive_matrix_vector_dot(x, y):\n",
        "  assert len(x.shape) == 2\n",
        "  assert len(y.shape) == 1\n",
        "  assert x.shape[1] == y.shape[0]\n",
        "\n",
        "  z = np.zeros(x.shape[0])\n",
        "  for i in range(x.shape[0]):\n",
        "    for j in range(y.shape[1]):\n",
        "      z[i] += x[i,j] * y[j]\n",
        "  return z\n",
        "\n",
        "'''\n",
        "  params: two mxn matrix (two 2D tensors)\n",
        "  returns:  matrix with shape (x.shape[0], y.shape[1])\n",
        "'''\n",
        "def naive_matrix_dot(x, y):\n",
        "  assert len(x.shape) == 2\n",
        "  assert len(y.shape) == 2\n",
        "  assert x.shape[1] == y.shape[0]\n",
        "\n",
        "  z = np.zeros((x.shape[0], y.shape[1]))\n",
        "  for i in range(x.shape[0]):\n",
        "    for j in range(y.shape[1]):\n",
        "      row_x = x[i, :]     # take this full row of x\n",
        "      column_y = y[:, j]  # take this full column of y\n",
        "      z[i, j] = naive_vector_dot(row_x, column_y)\n",
        "  return z\n"
      ],
      "execution_count": null,
      "outputs": []
    },
    {
      "cell_type": "markdown",
      "metadata": {
        "id": "3wADvLSlLJAp",
        "colab_type": "text"
      },
      "source": [
        "Tensor reshaping\n"
      ]
    },
    {
      "cell_type": "code",
      "metadata": {
        "id": "VN1TSKh_LLQ0",
        "colab_type": "code",
        "colab": {
          "base_uri": "https://localhost:8080/",
          "height": 179
        },
        "outputId": "cb1efd47-e7f2-48c2-fa9b-4b1f0e717a93"
      },
      "source": [
        "tensor = np.array([[0, 1], [2, 3], [4, 5]])\n",
        "print(tensor)\n",
        "tensor.reshape((6,1)) # 6 x 1 matrix"
      ],
      "execution_count": 11,
      "outputs": [
        {
          "output_type": "stream",
          "text": [
            "[[0 1]\n",
            " [2 3]\n",
            " [4 5]]\n"
          ],
          "name": "stdout"
        },
        {
          "output_type": "execute_result",
          "data": {
            "text/plain": [
              "array([[0],\n",
              "       [1],\n",
              "       [2],\n",
              "       [3],\n",
              "       [4],\n",
              "       [5]])"
            ]
          },
          "metadata": {
            "tags": []
          },
          "execution_count": 11
        }
      ]
    },
    {
      "cell_type": "code",
      "metadata": {
        "id": "MRP48FxuLsuT",
        "colab_type": "code",
        "colab": {
          "base_uri": "https://localhost:8080/",
          "height": 35
        },
        "outputId": "9e2aeefd-be1c-40af-f373-653edcc1ca63"
      },
      "source": [
        "# Transposition\n",
        "tensor_2 = np.zeros((300, 20))\n",
        "transpose_tensor_2 = np.transpose(tensor_2)\n",
        "transpose_tensor_2.shape"
      ],
      "execution_count": 12,
      "outputs": [
        {
          "output_type": "execute_result",
          "data": {
            "text/plain": [
              "(20, 300)"
            ]
          },
          "metadata": {
            "tags": []
          },
          "execution_count": 12
        }
      ]
    }
  ]
}